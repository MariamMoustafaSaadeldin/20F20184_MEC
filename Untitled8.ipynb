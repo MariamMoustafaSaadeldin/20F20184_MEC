{
 "cells": [
  {
   "cell_type": "code",
   "execution_count": 1,
   "id": "2c312eb3",
   "metadata": {},
   "outputs": [],
   "source": [
    "# Define paths to the dataset\n",
    "train_dir = 'train'  # Update with your actual path\n",
    "test_dir = 'test'    # Update with your actual path"
   ]
  },
  {
   "cell_type": "code",
   "execution_count": 2,
   "id": "d54715c3",
   "metadata": {},
   "outputs": [
    {
     "name": "stdout",
     "output_type": "stream",
     "text": [
      "2559\n",
      "2174\n",
      "640\n",
      "544\n"
     ]
    }
   ],
   "source": [
    "import os\n",
    "print(len(os.listdir('train/chihuahua')))\n",
    "print(len(os.listdir('train/muffin')))\n",
    "print(len(os.listdir('test/chihuahua')))\n",
    "print(len(os.listdir('test/muffin')))"
   ]
  },
  {
   "cell_type": "code",
   "execution_count": 3,
   "id": "34abb98b",
   "metadata": {},
   "outputs": [
    {
     "name": "stdout",
     "output_type": "stream",
     "text": [
      "WARNING:tensorflow:From C:\\Users\\hp\\anaconda3\\Lib\\site-packages\\keras\\src\\losses.py:2976: The name tf.losses.sparse_softmax_cross_entropy is deprecated. Please use tf.compat.v1.losses.sparse_softmax_cross_entropy instead.\n",
      "\n",
      "Found 3788 images belonging to 2 classes.\n",
      "Found 945 images belonging to 2 classes.\n"
     ]
    }
   ],
   "source": [
    "import tensorflow as tf\n",
    "from tensorflow.keras.preprocessing.image import ImageDataGenerator\n",
    "\n",
    "# Create ImageDataGenerator for training set\n",
    "train_datagen = ImageDataGenerator(\n",
    "    rescale=1./255,\n",
    "    validation_split=0.2  # Split 20% of the images for validation\n",
    ")\n",
    "\n",
    "# Load and prepare training data\n",
    "train_data = train_datagen.flow_from_directory(\n",
    "    train_dir,\n",
    "    target_size=(256,256),\n",
    "    batch_size=32,\n",
    "    class_mode='binary',  # 'binary' for binary classification (cats vs. dogs)\n",
    "    subset='training'  # Specify 'training' for the training set\n",
    ")\n",
    "\n",
    "# Create ImageDataGenerator for validation set\n",
    "validation_datagen = ImageDataGenerator(\n",
    "    rescale=1./255,\n",
    "    validation_split=0.2  # Note: Using the same validation split as in the training set\n",
    ")\n",
    "\n",
    "# Load and prepare validation data\n",
    "validation_data = validation_datagen.flow_from_directory(\n",
    "    train_dir,\n",
    "    target_size=(256,256),\n",
    "    batch_size=32,\n",
    "    class_mode='binary',\n",
    "    subset='validation'  # Specify 'validation' for the validation set\n",
    ")"
   ]
  },
  {
   "cell_type": "code",
   "execution_count": 4,
   "id": "8b280b6d",
   "metadata": {},
   "outputs": [],
   "source": [
    "from tensorflow import keras\n",
    "from keras import Sequential\n",
    "from keras.layers import Dense,Conv2D,MaxPooling2D,Flatten,BatchNormalization,UpSampling2D, Dropout"
   ]
  },
  {
   "cell_type": "code",
   "execution_count": 5,
   "id": "b9c77784",
   "metadata": {},
   "outputs": [],
   "source": [
    "from tensorflow.keras.applications import imagenet_utils"
   ]
  },
  {
   "cell_type": "code",
   "execution_count": 6,
   "id": "c41e0198",
   "metadata": {},
   "outputs": [
    {
     "name": "stdout",
     "output_type": "stream",
     "text": [
      "WARNING:tensorflow:From C:\\Users\\hp\\anaconda3\\Lib\\site-packages\\keras\\src\\backend.py:1398: The name tf.executing_eagerly_outside_functions is deprecated. Please use tf.compat.v1.executing_eagerly_outside_functions instead.\n",
      "\n",
      "WARNING:tensorflow:From C:\\Users\\hp\\anaconda3\\Lib\\site-packages\\keras\\src\\layers\\pooling\\max_pooling2d.py:161: The name tf.nn.max_pool is deprecated. Please use tf.nn.max_pool2d instead.\n",
      "\n",
      "Downloading data from https://storage.googleapis.com/tensorflow/keras-applications/vgg16/vgg16_weights_tf_dim_ordering_tf_kernels.h5\n",
      "553467096/553467096 [==============================] - 100s 0us/step\n"
     ]
    }
   ],
   "source": [
    "vgg16 = tf.keras.applications.vgg16.VGG16()"
   ]
  },
  {
   "cell_type": "code",
   "execution_count": 7,
   "id": "60bdfe9c",
   "metadata": {},
   "outputs": [],
   "source": [
    "# create CNN model\n",
    "\n",
    "model = Sequential()\n",
    "\n",
    "model.add(Conv2D(32,kernel_size=(3,3),padding='valid',activation='relu',input_shape=(256,256,3)))  # 32 filters\n",
    "#model.add(BatchNormalization())  # added to reduce overfitting\n",
    "model.add(MaxPooling2D(pool_size=(2,2),strides=2,padding='valid'))\n",
    "\n",
    "model.add(Conv2D(64,kernel_size=(3,3),padding='valid',activation='relu'))\n",
    "#model.add(BatchNormalization())  # added to reduce overfitting\n",
    "model.add(MaxPooling2D(pool_size=(2,2),strides=2,padding='valid'))\n",
    "\n",
    "model.add(Conv2D(128,kernel_size=(3,3),padding='valid',activation='relu'))\n",
    "#model.add(BatchNormalization())  # added to reduce overfitting\n",
    "model.add(MaxPooling2D(pool_size=(2,2),strides=2,padding='valid'))\n",
    "\n",
    "model.add(Flatten())\n",
    "\n",
    "model.add(Dense(128,activation='relu')) #feature reduction\n",
    "#model.add(Dropout(0.1))  # added to reduce overfitting\n",
    "model.add(Dense(64,activation='relu'))\n",
    "#model.add(Dropout(0.1))  # added to reduce overfitting\n",
    "model.add(Dense(1,activation='sigmoid'))  #output layer"
   ]
  },
  {
   "cell_type": "code",
   "execution_count": 8,
   "id": "c454f786",
   "metadata": {},
   "outputs": [],
   "source": [
    "from keras.optimizers import Adam\n",
    "model.compile(optimizer=Adam(learning_rate=0.001),loss='binary_crossentropy',metrics=['accuracy']) #binary_crossentropy - binary classification"
   ]
  },
  {
   "cell_type": "code",
   "execution_count": 9,
   "id": "ee3ced31",
   "metadata": {},
   "outputs": [
    {
     "name": "stdout",
     "output_type": "stream",
     "text": [
      "Epoch 1/3\n",
      "WARNING:tensorflow:From C:\\Users\\hp\\anaconda3\\Lib\\site-packages\\keras\\src\\utils\\tf_utils.py:492: The name tf.ragged.RaggedTensorValue is deprecated. Please use tf.compat.v1.ragged.RaggedTensorValue instead.\n",
      "\n",
      "WARNING:tensorflow:From C:\\Users\\hp\\anaconda3\\Lib\\site-packages\\keras\\src\\engine\\base_layer_utils.py:384: The name tf.executing_eagerly_outside_functions is deprecated. Please use tf.compat.v1.executing_eagerly_outside_functions instead.\n",
      "\n",
      "119/119 [==============================] - 205s 2s/step - loss: 0.6017 - accuracy: 0.7323 - val_loss: 0.3626 - val_accuracy: 0.8476\n",
      "Epoch 2/3\n",
      "119/119 [==============================] - 209s 2s/step - loss: 0.3923 - accuracy: 0.8252 - val_loss: 0.3535 - val_accuracy: 0.8561\n",
      "Epoch 3/3\n",
      "119/119 [==============================] - 198s 2s/step - loss: 0.3347 - accuracy: 0.8572 - val_loss: 0.3195 - val_accuracy: 0.8751\n"
     ]
    }
   ],
   "source": [
    "history = model.fit(train_data, epochs=3, validation_data=validation_data)"
   ]
  },
  {
   "cell_type": "code",
   "execution_count": 10,
   "id": "9d138627",
   "metadata": {},
   "outputs": [
    {
     "data": {
      "image/png": "[encoded data removed]",
      "text/plain": [
       "<Figure size 640x480 with 1 Axes>"
      ]
     },
     "metadata": {},
     "output_type": "display_data"
    }
   ],
   "source": [
    "import matplotlib.pyplot as plt\n",
    "\n",
    "plt.plot(history.history['accuracy'],color='red',label='train')\n",
    "plt.plot(history.history['val_accuracy'],color='blue',label='validation')\n",
    "plt.legend()\n",
    "plt.show()"
   ]
  },
  {
   "cell_type": "code",
   "execution_count": 11,
   "id": "152cba6a",
   "metadata": {},
   "outputs": [
    {
     "data": {
      "image/png": "[encoded data removed]",
      "text/plain": [
       "<Figure size 640x480 with 1 Axes>"
      ]
     },
     "metadata": {},
     "output_type": "display_data"
    }
   ],
   "source": [
    "plt.plot(history.history['loss'],color='red',label='train')\n",
    "plt.plot(history.history['val_loss'],color='blue',label='validation')\n",
    "plt.legend()\n",
    "plt.show()"
   ]
  },
  {
   "cell_type": "code",
   "execution_count": 12,
   "id": "28eddd8c",
   "metadata": {},
   "outputs": [
    {
     "name": "stdout",
     "output_type": "stream",
     "text": [
      "Found 1184 images belonging to 2 classes.\n"
     ]
    }
   ],
   "source": [
    "test_datagen = ImageDataGenerator(rescale=1./255)\n",
    "test_data = test_datagen.flow_from_directory(\n",
    "    test_dir,\n",
    "    target_size=(256,256),\n",
    "    batch_size=32,\n",
    "    class_mode='binary'\n",
    ")"
   ]
  },
  {
   "cell_type": "code",
   "execution_count": 13,
   "id": "c1e3dfaa",
   "metadata": {},
   "outputs": [
    {
     "name": "stdout",
     "output_type": "stream",
     "text": [
      "37/37 [==============================] - 24s 656ms/step\n",
      "[[0.8339572 ]\n",
      " [0.08051372]\n",
      " [0.7275034 ]\n",
      " ...\n",
      " [0.10956033]\n",
      " [0.1824598 ]\n",
      " [0.37109   ]]\n"
     ]
    }
   ],
   "source": [
    "#predict the test data\n",
    "predictions = model.predict(test_data)\n",
    "print(predictions)"
   ]
  },
  {
   "cell_type": "code",
   "execution_count": 14,
   "id": "d03fcc69",
   "metadata": {},
   "outputs": [
    {
     "data": {
      "text/plain": [
       "1184"
      ]
     },
     "execution_count": 14,
     "metadata": {},
     "output_type": "execute_result"
    }
   ],
   "source": [
    "len(predictions)"
   ]
  },
  {
   "cell_type": "code",
   "execution_count": 15,
   "id": "0d8c3aca",
   "metadata": {},
   "outputs": [
    {
     "name": "stdout",
     "output_type": "stream",
     "text": [
      "Confusion Matrix:\n",
      "[[338 302]\n",
      " [275 269]]\n",
      "Classification Report:\n",
      "              precision    recall  f1-score   support\n",
      "\n",
      "           0       0.55      0.53      0.54       640\n",
      "           1       0.47      0.49      0.48       544\n",
      "\n",
      "    accuracy                           0.51      1184\n",
      "   macro avg       0.51      0.51      0.51      1184\n",
      "weighted avg       0.51      0.51      0.51      1184\n",
      "\n"
     ]
    }
   ],
   "source": [
    "from sklearn.metrics import confusion_matrix, classification_report\n",
    "\n",
    "# Assuming you have ground truth labels (true_labels) and predicted labels (predictions)\n",
    "true_labels = test_data.classes\n",
    "predicted_labels = (predictions > 0.5).astype(int)  # Adjust the threshold as needed\n",
    "\n",
    "# Calculate confusion matrix\n",
    "cm = confusion_matrix(true_labels, predicted_labels)\n",
    "\n",
    "# Print confusion matrix\n",
    "print(\"Confusion Matrix:\")\n",
    "print(cm)\n",
    "\n",
    "# Print classification report\n",
    "print(\"Classification Report:\")\n",
    "print(classification_report(true_labels, predicted_labels))"
   ]
  },
  {
   "cell_type": "code",
   "execution_count": null,
   "id": "f8d40f28",
   "metadata": {},
   "outputs": [],
   "source": []
  }
 ],
 "metadata": {
  "kernelspec": {
   "display_name": "Python 3 (ipykernel)",
   "language": "python",
   "name": "python3"
  },
  "language_info": {
   "codemirror_mode": {
    "name": "ipython",
    "version": 3
   },
   "file_extension": ".py",
   "mimetype": "text/x-python",
   "name": "python",
   "nbconvert_exporter": "python",
   "pygments_lexer": "ipython3",
   "version": "3.11.5"
  }
 },
 "nbformat": 4,
 "nbformat_minor": 5
}
